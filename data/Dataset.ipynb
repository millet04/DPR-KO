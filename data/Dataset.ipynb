{
 "cells": [
  {
   "cell_type": "markdown",
   "id": "e44489f3-8ef8-4284-8152-7d07710df29b",
   "metadata": {},
   "source": [
    "# Construct Korean DPR Dataset (KorQuad version 1)"
   ]
  },
  {
   "cell_type": "code",
   "execution_count": 1,
   "id": "f13a0c49-ba91-4b91-bfb6-3a535ccb3cbc",
   "metadata": {},
   "outputs": [],
   "source": [
    "import json\n",
    "import pandas as pd\n",
    "from tqdm import tqdm\n",
    "from nltk import sent_tokenize\n",
    "from rank_bm25 import BM25Okapi\n",
    "from datasets import load_dataset\n",
    "from transformers import AutoTokenizer"
   ]
  },
  {
   "cell_type": "markdown",
   "id": "c56aca26-d9a1-48ed-bed8-2ed2efecab5a",
   "metadata": {},
   "source": [
    "### 1. Load Dataset"
   ]
  },
  {
   "cell_type": "code",
   "execution_count": 2,
   "id": "a5ba8e5d-473d-4421-ae59-01e2b2f40b9b",
   "metadata": {},
   "outputs": [],
   "source": [
    "dataset = load_dataset('KorQuAD/squad_kor_v1', trust_remote_code=True)"
   ]
  },
  {
   "cell_type": "code",
   "execution_count": 3,
   "id": "dc0ddde2-b63c-401f-96aa-1ced650421f5",
   "metadata": {},
   "outputs": [
    {
     "data": {
      "text/plain": [
       "{'id': '6566495-0-1',\n",
       " 'title': '파우스트_서곡',\n",
       " 'context': '1839년 바그너는 괴테의 파우스트을 처음 읽고 그 내용에 마음이 끌려 이를 소재로 해서 하나의 교향곡을 쓰려는 뜻을 갖는다. 이 시기 바그너는 1838년에 빛 독촉으로 산전수전을 다 걲은 상황이라 좌절과 실망에 가득했으며 메피스토펠레스를 만나는 파우스트의 심경에 공감했다고 한다. 또한 파리에서 아브네크의 지휘로 파리 음악원 관현악단이 연주하는 베토벤의 교향곡 9번을 듣고 깊은 감명을 받았는데, 이것이 이듬해 1월에 파우스트의 서곡으로 쓰여진 이 작품에 조금이라도 영향을 끼쳤으리라는 것은 의심할 여지가 없다. 여기의 라단조 조성의 경우에도 그의 전기에 적혀 있는 것처럼 단순한 정신적 피로나 실의가 반영된 것이 아니라 베토벤의 합창교향곡 조성의 영향을 받은 것을 볼 수 있다. 그렇게 교향곡 작곡을 1839년부터 40년에 걸쳐 파리에서 착수했으나 1악장을 쓴 뒤에 중단했다. 또한 작품의 완성과 동시에 그는 이 서곡(1악장)을 파리 음악원의 연주회에서 연주할 파트보까지 준비하였으나, 실제로는 이루어지지는 않았다. 결국 초연은 4년 반이 지난 후에 드레스덴에서 연주되었고 재연도 이루어졌지만, 이후에 그대로 방치되고 말았다. 그 사이에 그는 리엔치와 방황하는 네덜란드인을 완성하고 탄호이저에도 착수하는 등 분주한 시간을 보냈는데, 그런 바쁜 생활이 이 곡을 잊게 한 것이 아닌가 하는 의견도 있다.',\n",
       " 'question': '바그너는 교향곡 작곡을 어디까지 쓴 뒤에 중단했는가?',\n",
       " 'answers': {'text': ['1악장'], 'answer_start': [421]}}"
      ]
     },
     "execution_count": 3,
     "metadata": {},
     "output_type": "execute_result"
    }
   ],
   "source": [
    "dataset['train'][1]"
   ]
  },
  {
   "cell_type": "markdown",
   "id": "5e39e3da-2122-4961-b1a3-8fde1ec79bd6",
   "metadata": {},
   "source": [
    "### 2. Chunk Contexts"
   ]
  },
  {
   "cell_type": "code",
   "execution_count": 4,
   "id": "9847d9cd-cf03-42a4-a994-a6b58fceee24",
   "metadata": {},
   "outputs": [],
   "source": [
    "def chunk_context(context, num_sents, overlaps):\n",
    "    chunks = []\n",
    "    start, end = 0, num_sents\n",
    "    \n",
    "    total_sents = sent_tokenize(context)\n",
    "\n",
    "    while start < len(total_sents):\n",
    "        chunk = total_sents[start:end]\n",
    "        chunks.append(' '.join(chunk))\n",
    "        \n",
    "        start += (num_sents - overlaps)\n",
    "        end = start + num_sents\n",
    "\n",
    "    return chunks"
   ]
  },
  {
   "cell_type": "code",
   "execution_count": 5,
   "id": "17cc7acc-975d-4dd9-bb5e-e54933a095f9",
   "metadata": {},
   "outputs": [
    {
     "data": {
      "text/plain": [
       "['1839년 바그너는 괴테의 파우스트을 처음 읽고 그 내용에 마음이 끌려 이를 소재로 해서 하나의 교향곡을 쓰려는 뜻을 갖는다. 이 시기 바그너는 1838년에 빛 독촉으로 산전수전을 다 걲은 상황이라 좌절과 실망에 가득했으며 메피스토펠레스를 만나는 파우스트의 심경에 공감했다고 한다. 또한 파리에서 아브네크의 지휘로 파리 음악원 관현악단이 연주하는 베토벤의 교향곡 9번을 듣고 깊은 감명을 받았는데, 이것이 이듬해 1월에 파우스트의 서곡으로 쓰여진 이 작품에 조금이라도 영향을 끼쳤으리라는 것은 의심할 여지가 없다.',\n",
       " '또한 파리에서 아브네크의 지휘로 파리 음악원 관현악단이 연주하는 베토벤의 교향곡 9번을 듣고 깊은 감명을 받았는데, 이것이 이듬해 1월에 파우스트의 서곡으로 쓰여진 이 작품에 조금이라도 영향을 끼쳤으리라는 것은 의심할 여지가 없다. 여기의 라단조 조성의 경우에도 그의 전기에 적혀 있는 것처럼 단순한 정신적 피로나 실의가 반영된 것이 아니라 베토벤의 합창교향곡 조성의 영향을 받은 것을 볼 수 있다. 그렇게 교향곡 작곡을 1839년부터 40년에 걸쳐 파리에서 착수했으나 1악장을 쓴 뒤에 중단했다.',\n",
       " '그렇게 교향곡 작곡을 1839년부터 40년에 걸쳐 파리에서 착수했으나 1악장을 쓴 뒤에 중단했다. 또한 작품의 완성과 동시에 그는 이 서곡(1악장)을 파리 음악원의 연주회에서 연주할 파트보까지 준비하였으나, 실제로는 이루어지지는 않았다. 결국 초연은 4년 반이 지난 후에 드레스덴에서 연주되었고 재연도 이루어졌지만, 이후에 그대로 방치되고 말았다.',\n",
       " '결국 초연은 4년 반이 지난 후에 드레스덴에서 연주되었고 재연도 이루어졌지만, 이후에 그대로 방치되고 말았다. 그 사이에 그는 리엔치와 방황하는 네덜란드인을 완성하고 탄호이저에도 착수하는 등 분주한 시간을 보냈는데, 그런 바쁜 생활이 이 곡을 잊게 한 것이 아닌가 하는 의견도 있다.']"
      ]
     },
     "execution_count": 5,
     "metadata": {},
     "output_type": "execute_result"
    }
   ],
   "source": [
    "sample_ctx = dataset['train'][0]['context']\n",
    "\n",
    "chunks = chunk_context(sample_ctx, 3, 1)\n",
    "chunks"
   ]
  },
  {
   "cell_type": "markdown",
   "id": "afb29f46-4fe4-4e9d-bcb7-19d45a0a2a05",
   "metadata": {},
   "source": [
    "### 3. Fill Templates"
   ]
  },
  {
   "cell_type": "code",
   "execution_count": 6,
   "id": "9bb5c9ce-c3b7-4bc3-9028-ca6f3266ffeb",
   "metadata": {},
   "outputs": [],
   "source": [
    "TEMPLATE_ALL = {\n",
    "    \"question\": \"\",\n",
    "\t\"answers\": [],\n",
    "\t\"positive\": [],\n",
    "  }\n",
    "\n",
    "TEMPLATE_TEXT = {\n",
    "    \"title\": \"\",\n",
    "    \"text\": \"\",\n",
    "}"
   ]
  },
  {
   "cell_type": "code",
   "execution_count": 7,
   "id": "856ed108-f27a-45d0-a7dc-85d65d312247",
   "metadata": {},
   "outputs": [
    {
     "data": {
      "text/plain": [
       "'파우스트_서곡'"
      ]
     },
     "execution_count": 7,
     "metadata": {},
     "output_type": "execute_result"
    }
   ],
   "source": [
    "title = dataset['train'][0]['title']\n",
    "title"
   ]
  },
  {
   "cell_type": "code",
   "execution_count": 8,
   "id": "accd7bf9-0e46-4500-b133-6fb085f0791a",
   "metadata": {},
   "outputs": [
    {
     "data": {
      "text/plain": [
       "'바그너는 괴테의 파우스트를 읽고 무엇을 쓰고자 했는가?'"
      ]
     },
     "execution_count": 8,
     "metadata": {},
     "output_type": "execute_result"
    }
   ],
   "source": [
    "question = dataset['train'][0]['question']\n",
    "question"
   ]
  },
  {
   "cell_type": "code",
   "execution_count": 9,
   "id": "df2cd8ec-8bd6-4012-8ba8-3d6abeb9c91f",
   "metadata": {},
   "outputs": [
    {
     "data": {
      "text/plain": [
       "'교향곡'"
      ]
     },
     "execution_count": 9,
     "metadata": {},
     "output_type": "execute_result"
    }
   ],
   "source": [
    "answer = dataset['train'][0]['answers']['text'][0]\n",
    "answer"
   ]
  },
  {
   "cell_type": "code",
   "execution_count": 10,
   "id": "d02b439f-85b8-4fb6-849d-e3e65707fb45",
   "metadata": {},
   "outputs": [],
   "source": [
    "def fill_templates(chunks, title, question, answer, idx):\n",
    "    positives = []\n",
    "    for chunk in chunks:\n",
    "        template_instance1 = TEMPLATE_TEXT.copy()\n",
    "        template_instance1['title'] = title\n",
    "        template_instance1['text'] = chunk\n",
    "    \n",
    "        if answer in chunk:\n",
    "            positives.append(template_instance1.copy())\n",
    "\n",
    "    template_instance2 = TEMPLATE_ALL.copy()\n",
    "    template_instance2['question'] = question\n",
    "    template_instance2['answers'] = [answer]\n",
    "    template_instance2['positive'] = positives\n",
    "    \n",
    "    return template_instance2"
   ]
  },
  {
   "cell_type": "code",
   "execution_count": 11,
   "id": "b1ae4fe5-2200-4186-ba56-845e988c2f3e",
   "metadata": {
    "scrolled": true
   },
   "outputs": [
    {
     "data": {
      "text/plain": [
       "{'question': '바그너는 괴테의 파우스트를 읽고 무엇을 쓰고자 했는가?',\n",
       " 'answers': ['교향곡'],\n",
       " 'positive': [{'title': '파우스트_서곡',\n",
       "   'text': '1839년 바그너는 괴테의 파우스트을 처음 읽고 그 내용에 마음이 끌려 이를 소재로 해서 하나의 교향곡을 쓰려는 뜻을 갖는다. 이 시기 바그너는 1838년에 빛 독촉으로 산전수전을 다 걲은 상황이라 좌절과 실망에 가득했으며 메피스토펠레스를 만나는 파우스트의 심경에 공감했다고 한다. 또한 파리에서 아브네크의 지휘로 파리 음악원 관현악단이 연주하는 베토벤의 교향곡 9번을 듣고 깊은 감명을 받았는데, 이것이 이듬해 1월에 파우스트의 서곡으로 쓰여진 이 작품에 조금이라도 영향을 끼쳤으리라는 것은 의심할 여지가 없다.'},\n",
       "  {'title': '파우스트_서곡',\n",
       "   'text': '또한 파리에서 아브네크의 지휘로 파리 음악원 관현악단이 연주하는 베토벤의 교향곡 9번을 듣고 깊은 감명을 받았는데, 이것이 이듬해 1월에 파우스트의 서곡으로 쓰여진 이 작품에 조금이라도 영향을 끼쳤으리라는 것은 의심할 여지가 없다. 여기의 라단조 조성의 경우에도 그의 전기에 적혀 있는 것처럼 단순한 정신적 피로나 실의가 반영된 것이 아니라 베토벤의 합창교향곡 조성의 영향을 받은 것을 볼 수 있다. 그렇게 교향곡 작곡을 1839년부터 40년에 걸쳐 파리에서 착수했으나 1악장을 쓴 뒤에 중단했다.'},\n",
       "  {'title': '파우스트_서곡',\n",
       "   'text': '그렇게 교향곡 작곡을 1839년부터 40년에 걸쳐 파리에서 착수했으나 1악장을 쓴 뒤에 중단했다. 또한 작품의 완성과 동시에 그는 이 서곡(1악장)을 파리 음악원의 연주회에서 연주할 파트보까지 준비하였으나, 실제로는 이루어지지는 않았다. 결국 초연은 4년 반이 지난 후에 드레스덴에서 연주되었고 재연도 이루어졌지만, 이후에 그대로 방치되고 말았다.'}]}"
      ]
     },
     "execution_count": 11,
     "metadata": {},
     "output_type": "execute_result"
    }
   ],
   "source": [
    "fill_templates(chunks, title, question, answer, 1)"
   ]
  },
  {
   "cell_type": "markdown",
   "id": "eed7e1f7-4130-46ee-9bce-c2e532597121",
   "metadata": {},
   "source": [
    "### 4. Construct DPR Dataset"
   ]
  },
  {
   "cell_type": "code",
   "execution_count": 12,
   "id": "52181bab-40e0-490d-ac68-9c7132421a87",
   "metadata": {},
   "outputs": [],
   "source": [
    "TEMPLATE_ALL = {\n",
    "    \"question\": \"\",\n",
    "\t\"answers\": [],\n",
    "\t\"positive\": [],\n",
    "  }\n",
    "\n",
    "TEMPLATE_TEXT = {\n",
    "    \"title\": \"\",\n",
    "    \"text\": \"\",\n",
    "}"
   ]
  },
  {
   "cell_type": "code",
   "execution_count": 13,
   "id": "dc800979-58d0-4952-9b3d-5d4f0030630f",
   "metadata": {},
   "outputs": [],
   "source": [
    "def construct_dpr_dataset(dataset, num_sents, overlaps):\n",
    "    dpr_dataset = []\n",
    "    for idx in tqdm(range(len(dataset))):\n",
    "        sample = dataset[idx]\n",
    "        \n",
    "        title = sample['title']\n",
    "        question = sample['question']\n",
    "        answer = sample['answers']['text'][0]\n",
    "        chunks = chunk_context(sample['context'], num_sents, overlaps)\n",
    "        \n",
    "        output = fill_templates(chunks, title, question, answer, idx+1)\n",
    "        dpr_dataset.append(output)\n",
    "    \n",
    "    return dpr_dataset"
   ]
  },
  {
   "cell_type": "code",
   "execution_count": 14,
   "id": "f9085916-966e-4128-9b65-067ec0f863ec",
   "metadata": {},
   "outputs": [
    {
     "name": "stderr",
     "output_type": "stream",
     "text": [
      "100%|███████████████████████████████████████████████████████████████████████████| 60407/60407 [00:13<00:00, 4571.48it/s]\n"
     ]
    }
   ],
   "source": [
    "dpr_dataset = construct_dpr_dataset(dataset['train'], 3, 1)"
   ]
  },
  {
   "cell_type": "code",
   "execution_count": 15,
   "id": "57464151-c44b-4246-8610-f397f117f489",
   "metadata": {
    "scrolled": true
   },
   "outputs": [
    {
     "data": {
      "text/plain": [
       "{'question': '바그너는 괴테의 파우스트를 읽고 무엇을 쓰고자 했는가?',\n",
       " 'answers': ['교향곡'],\n",
       " 'positive': [{'title': '파우스트_서곡',\n",
       "   'text': '1839년 바그너는 괴테의 파우스트을 처음 읽고 그 내용에 마음이 끌려 이를 소재로 해서 하나의 교향곡을 쓰려는 뜻을 갖는다. 이 시기 바그너는 1838년에 빛 독촉으로 산전수전을 다 걲은 상황이라 좌절과 실망에 가득했으며 메피스토펠레스를 만나는 파우스트의 심경에 공감했다고 한다. 또한 파리에서 아브네크의 지휘로 파리 음악원 관현악단이 연주하는 베토벤의 교향곡 9번을 듣고 깊은 감명을 받았는데, 이것이 이듬해 1월에 파우스트의 서곡으로 쓰여진 이 작품에 조금이라도 영향을 끼쳤으리라는 것은 의심할 여지가 없다.'},\n",
       "  {'title': '파우스트_서곡',\n",
       "   'text': '또한 파리에서 아브네크의 지휘로 파리 음악원 관현악단이 연주하는 베토벤의 교향곡 9번을 듣고 깊은 감명을 받았는데, 이것이 이듬해 1월에 파우스트의 서곡으로 쓰여진 이 작품에 조금이라도 영향을 끼쳤으리라는 것은 의심할 여지가 없다. 여기의 라단조 조성의 경우에도 그의 전기에 적혀 있는 것처럼 단순한 정신적 피로나 실의가 반영된 것이 아니라 베토벤의 합창교향곡 조성의 영향을 받은 것을 볼 수 있다. 그렇게 교향곡 작곡을 1839년부터 40년에 걸쳐 파리에서 착수했으나 1악장을 쓴 뒤에 중단했다.'},\n",
       "  {'title': '파우스트_서곡',\n",
       "   'text': '그렇게 교향곡 작곡을 1839년부터 40년에 걸쳐 파리에서 착수했으나 1악장을 쓴 뒤에 중단했다. 또한 작품의 완성과 동시에 그는 이 서곡(1악장)을 파리 음악원의 연주회에서 연주할 파트보까지 준비하였으나, 실제로는 이루어지지는 않았다. 결국 초연은 4년 반이 지난 후에 드레스덴에서 연주되었고 재연도 이루어졌지만, 이후에 그대로 방치되고 말았다.'}]}"
      ]
     },
     "execution_count": 15,
     "metadata": {},
     "output_type": "execute_result"
    }
   ],
   "source": [
    "dpr_dataset[0]"
   ]
  },
  {
   "cell_type": "markdown",
   "id": "596003e5-0908-4a0d-835f-533da4ba58d6",
   "metadata": {},
   "source": [
    "### 5. Set Index"
   ]
  },
  {
   "cell_type": "code",
   "execution_count": 16,
   "id": "ce51ce37-3159-426c-b9b9-0231b1dfdb65",
   "metadata": {},
   "outputs": [],
   "source": [
    "def set_index_to_text(dataset):\n",
    "    text_2_index = {}\n",
    "    text_2_title = {}\n",
    "    current_idx = 0  # Initialize the starting index\n",
    "\n",
    "    for sample in dataset:\n",
    "        pos_text = [pos['text'] for pos in sample['positive']]\n",
    "        pos_title = [pos['title'] for pos in sample['positive']]\n",
    "    \n",
    "        all_idx = []\n",
    "        for text, title in zip(pos_text, pos_title):\n",
    "            if text not in text_2_index:\n",
    "                text_2_index[text] = current_idx \n",
    "                text_2_title[text] = title  # Map the text to its title\n",
    "                current_idx += 1\n",
    "\n",
    "        for pos in sample['positive']:\n",
    "            pos['idx'] = text_2_index[pos['text']]\n",
    "            all_idx.append(text_2_index[pos['text']])\n",
    "        \n",
    "        sample['answer_idx'] = all_idx\n",
    "\n",
    "    return dataset, text_2_index, text_2_title"
   ]
  },
  {
   "cell_type": "code",
   "execution_count": 17,
   "id": "b771e021-37ee-4a2f-b832-f9a21d338c6a",
   "metadata": {},
   "outputs": [],
   "source": [
    "dpr_dataset, text_2_index, text_2_title = set_index_to_text(dpr_dataset)"
   ]
  },
  {
   "cell_type": "code",
   "execution_count": 18,
   "id": "d3b99b5c-939f-47f9-8ab8-18c5962da7fb",
   "metadata": {},
   "outputs": [
    {
     "data": {
      "text/plain": [
       "{'question': '바그너는 괴테의 파우스트를 읽고 무엇을 쓰고자 했는가?',\n",
       " 'answers': ['교향곡'],\n",
       " 'positive': [{'title': '파우스트_서곡',\n",
       "   'text': '1839년 바그너는 괴테의 파우스트을 처음 읽고 그 내용에 마음이 끌려 이를 소재로 해서 하나의 교향곡을 쓰려는 뜻을 갖는다. 이 시기 바그너는 1838년에 빛 독촉으로 산전수전을 다 걲은 상황이라 좌절과 실망에 가득했으며 메피스토펠레스를 만나는 파우스트의 심경에 공감했다고 한다. 또한 파리에서 아브네크의 지휘로 파리 음악원 관현악단이 연주하는 베토벤의 교향곡 9번을 듣고 깊은 감명을 받았는데, 이것이 이듬해 1월에 파우스트의 서곡으로 쓰여진 이 작품에 조금이라도 영향을 끼쳤으리라는 것은 의심할 여지가 없다.',\n",
       "   'idx': 0},\n",
       "  {'title': '파우스트_서곡',\n",
       "   'text': '또한 파리에서 아브네크의 지휘로 파리 음악원 관현악단이 연주하는 베토벤의 교향곡 9번을 듣고 깊은 감명을 받았는데, 이것이 이듬해 1월에 파우스트의 서곡으로 쓰여진 이 작품에 조금이라도 영향을 끼쳤으리라는 것은 의심할 여지가 없다. 여기의 라단조 조성의 경우에도 그의 전기에 적혀 있는 것처럼 단순한 정신적 피로나 실의가 반영된 것이 아니라 베토벤의 합창교향곡 조성의 영향을 받은 것을 볼 수 있다. 그렇게 교향곡 작곡을 1839년부터 40년에 걸쳐 파리에서 착수했으나 1악장을 쓴 뒤에 중단했다.',\n",
       "   'idx': 1},\n",
       "  {'title': '파우스트_서곡',\n",
       "   'text': '그렇게 교향곡 작곡을 1839년부터 40년에 걸쳐 파리에서 착수했으나 1악장을 쓴 뒤에 중단했다. 또한 작품의 완성과 동시에 그는 이 서곡(1악장)을 파리 음악원의 연주회에서 연주할 파트보까지 준비하였으나, 실제로는 이루어지지는 않았다. 결국 초연은 4년 반이 지난 후에 드레스덴에서 연주되었고 재연도 이루어졌지만, 이후에 그대로 방치되고 말았다.',\n",
       "   'idx': 2}],\n",
       " 'answer_idx': [0, 1, 2]}"
      ]
     },
     "execution_count": 18,
     "metadata": {},
     "output_type": "execute_result"
    }
   ],
   "source": [
    "dpr_dataset[0]"
   ]
  },
  {
   "cell_type": "markdown",
   "id": "4a596d46-8737-49fb-8ab3-c32733dd23e2",
   "metadata": {},
   "source": [
    "### 5. Add Hard Negative (Optional)"
   ]
  },
  {
   "cell_type": "code",
   "execution_count": 38,
   "id": "3e066f43-2633-4c54-a88f-24cacb462938",
   "metadata": {},
   "outputs": [],
   "source": [
    "def get_hard_negative(dataset, text_2_index, text_2_title):\n",
    "    corpus = list(text_2_index.keys())\n",
    "    tokenized_corpus = [context.split(\" \") for context in corpus]\n",
    "    bm25 = BM25Okapi(tokenized_corpus)\n",
    "\n",
    "    for sample in tqdm(dataset, desc=\"Processing samples\"):\n",
    "        question = sample['question']\n",
    "        positive = sample['positive']\n",
    "        \n",
    "        top_n = bm25.get_top_n(question.split(\" \"), corpus, n=30)  # Increase n to have more candidates\n",
    "        \n",
    "        hard_neg = []\n",
    "        positive_idx_set = set(sample['answer_idx'])\n",
    "        for doc in top_n:\n",
    "            if text_2_index[doc] not in positive_idx_set:\n",
    "                hard_neg.append({'title': text_2_title[doc],\n",
    "                                 'text': doc,\n",
    "                                 'idx': text_2_index[doc]})\n",
    "            \n",
    "            if len(hard_neg) >= len(positive):\n",
    "                break\n",
    "        \n",
    "        # If not enough hard negatives, repeat existing ones to match the number of positives\n",
    "        if len(hard_neg) < len(positive):\n",
    "            print(f\"Warning: Not enough hard negatives for question: {question}. Duplicating existing hard negatives.\")\n",
    "            while len(hard_neg) < len(positive):\n",
    "                hard_neg.extend(hard_neg[:len(positive) - len(hard_neg)])\n",
    "        \n",
    "        sample['hard_neg'] = hard_neg[:len(positive)]  # Trim to ensure exact number matches positive samples\n",
    "        \n",
    "    return dataset"
   ]
  },
  {
   "cell_type": "code",
   "execution_count": 39,
   "id": "b3037adc-0856-4a11-bf90-2826002fb4c2",
   "metadata": {},
   "outputs": [
    {
     "name": "stderr",
     "output_type": "stream",
     "text": [
      "Processing samples: 100%|█████████████████████████████████████████████████████████| 60407/60407 [37:36<00:00, 26.77it/s]\n"
     ]
    }
   ],
   "source": [
    "dpr_dataset = get_hard_negative(dpr_dataset, text_2_index, text_2_title)"
   ]
  },
  {
   "cell_type": "code",
   "execution_count": 40,
   "id": "76e874ca-0c83-4873-a247-f7246cb6683f",
   "metadata": {},
   "outputs": [
    {
     "data": {
      "text/plain": [
       "{'question': '바그너는 괴테의 파우스트를 읽고 무엇을 쓰고자 했는가?',\n",
       " 'answers': ['교향곡'],\n",
       " 'positive': [{'title': '파우스트_서곡',\n",
       "   'text': '1839년 바그너는 괴테의 파우스트을 처음 읽고 그 내용에 마음이 끌려 이를 소재로 해서 하나의 교향곡을 쓰려는 뜻을 갖는다. 이 시기 바그너는 1838년에 빛 독촉으로 산전수전을 다 걲은 상황이라 좌절과 실망에 가득했으며 메피스토펠레스를 만나는 파우스트의 심경에 공감했다고 한다. 또한 파리에서 아브네크의 지휘로 파리 음악원 관현악단이 연주하는 베토벤의 교향곡 9번을 듣고 깊은 감명을 받았는데, 이것이 이듬해 1월에 파우스트의 서곡으로 쓰여진 이 작품에 조금이라도 영향을 끼쳤으리라는 것은 의심할 여지가 없다.',\n",
       "   'idx': 0},\n",
       "  {'title': '파우스트_서곡',\n",
       "   'text': '또한 파리에서 아브네크의 지휘로 파리 음악원 관현악단이 연주하는 베토벤의 교향곡 9번을 듣고 깊은 감명을 받았는데, 이것이 이듬해 1월에 파우스트의 서곡으로 쓰여진 이 작품에 조금이라도 영향을 끼쳤으리라는 것은 의심할 여지가 없다. 여기의 라단조 조성의 경우에도 그의 전기에 적혀 있는 것처럼 단순한 정신적 피로나 실의가 반영된 것이 아니라 베토벤의 합창교향곡 조성의 영향을 받은 것을 볼 수 있다. 그렇게 교향곡 작곡을 1839년부터 40년에 걸쳐 파리에서 착수했으나 1악장을 쓴 뒤에 중단했다.',\n",
       "   'idx': 1},\n",
       "  {'title': '파우스트_서곡',\n",
       "   'text': '그렇게 교향곡 작곡을 1839년부터 40년에 걸쳐 파리에서 착수했으나 1악장을 쓴 뒤에 중단했다. 또한 작품의 완성과 동시에 그는 이 서곡(1악장)을 파리 음악원의 연주회에서 연주할 파트보까지 준비하였으나, 실제로는 이루어지지는 않았다. 결국 초연은 4년 반이 지난 후에 드레스덴에서 연주되었고 재연도 이루어졌지만, 이후에 그대로 방치되고 말았다.',\n",
       "   'idx': 2}],\n",
       " 'answer_idx': [0, 1, 2],\n",
       " 'hard_neg': [{'title': '바이로이트_축제',\n",
       "   'text': '1871년 봄, 바그너는 지원금을 확보하기 위해 독일의 수상이었던 비스마르크를 만나지만 거절당한다. 바그너는 라이프치히와 프랑크푸르트 등의 독일 도시들을 돌아다니며 기금을 조성한다.',\n",
       "   'idx': 29869},\n",
       "  {'title': '교향곡_다장조_(바그너)',\n",
       "   'text': '바그너의 가족들은 1882년 9월 14일에 베니스로 여행을 떠났는데, 그 곳에서 반년 정도 머룰고 있던 1883년 2월 13일에 바그너는 심장마비로 사망하였다. 이 체류기간 중인 1882년 12월 24일, 바그너는 아내 코지마의 생일 파티를 겸한 연주회를 페니체 극장에서 개최하였는데, 50년 전에 작곡한 이 교향곡을 자이톨이 만든 복원 총보를 사용하여 바그너 자신이 직접 연주하였다. 지금은 분실되고 말았지만, 원본 총보로 연주된 초연은 작곡 후 곧바로 1832년 11월에 프라하 음악원에서 디오니스 베버(Dionys Weber, 1799 ~ 1842, 체코의 작곡가이며 프라하 음악원 설립에 공헌한 음악교수)의 지휘로 이루어졌다.',\n",
       "   'idx': 22775},\n",
       "  {'title': '위미르',\n",
       "   'text': '아우둠블라의 젖통에서 우유가 네 줄기의 강을 이루며 흘렀고, 위미르는 그 우유를 먹었다. 강글레리는 그 암소는 무엇을 먹었냐고 묻는다. 높으신 분은 암소는 소금기 있는 얼음 덩어리를 핥았다고 답한다.',\n",
       "   'idx': 29114}]}"
      ]
     },
     "execution_count": 40,
     "metadata": {},
     "output_type": "execute_result"
    }
   ],
   "source": [
    "dpr_dataset[0]"
   ]
  },
  {
   "cell_type": "markdown",
   "id": "798abd02-e904-4fca-a9dd-a0f322c90161",
   "metadata": {},
   "source": [
    "### 6. Save to Json"
   ]
  },
  {
   "cell_type": "code",
   "execution_count": 41,
   "id": "8805c679-4270-42f1-9b24-06ec1a969597",
   "metadata": {},
   "outputs": [],
   "source": [
    "file_path = 'korquad_v1_train.json'"
   ]
  },
  {
   "cell_type": "code",
   "execution_count": 42,
   "id": "ef44ea03-89b4-4590-ac1e-48b3d0a2467d",
   "metadata": {},
   "outputs": [],
   "source": [
    "with open(file_path, 'w') as outfile:\n",
    "    json.dump(dpr_dataset, outfile, indent=4)"
   ]
  },
  {
   "cell_type": "code",
   "execution_count": 43,
   "id": "6ff0ca9c-b75a-489c-8f89-b76d4f6d2db5",
   "metadata": {},
   "outputs": [],
   "source": [
    "with open(file_path) as infile:\n",
    "    dataset = json.load(infile)"
   ]
  },
  {
   "cell_type": "code",
   "execution_count": 44,
   "id": "daa904a7-9d6c-4d70-b631-b8879f372bf4",
   "metadata": {},
   "outputs": [
    {
     "data": {
      "text/plain": [
       "{'question': '바그너는 괴테의 파우스트를 읽고 무엇을 쓰고자 했는가?',\n",
       " 'answers': ['교향곡'],\n",
       " 'positive': [{'title': '파우스트_서곡',\n",
       "   'text': '1839년 바그너는 괴테의 파우스트을 처음 읽고 그 내용에 마음이 끌려 이를 소재로 해서 하나의 교향곡을 쓰려는 뜻을 갖는다. 이 시기 바그너는 1838년에 빛 독촉으로 산전수전을 다 걲은 상황이라 좌절과 실망에 가득했으며 메피스토펠레스를 만나는 파우스트의 심경에 공감했다고 한다. 또한 파리에서 아브네크의 지휘로 파리 음악원 관현악단이 연주하는 베토벤의 교향곡 9번을 듣고 깊은 감명을 받았는데, 이것이 이듬해 1월에 파우스트의 서곡으로 쓰여진 이 작품에 조금이라도 영향을 끼쳤으리라는 것은 의심할 여지가 없다.',\n",
       "   'idx': 0},\n",
       "  {'title': '파우스트_서곡',\n",
       "   'text': '또한 파리에서 아브네크의 지휘로 파리 음악원 관현악단이 연주하는 베토벤의 교향곡 9번을 듣고 깊은 감명을 받았는데, 이것이 이듬해 1월에 파우스트의 서곡으로 쓰여진 이 작품에 조금이라도 영향을 끼쳤으리라는 것은 의심할 여지가 없다. 여기의 라단조 조성의 경우에도 그의 전기에 적혀 있는 것처럼 단순한 정신적 피로나 실의가 반영된 것이 아니라 베토벤의 합창교향곡 조성의 영향을 받은 것을 볼 수 있다. 그렇게 교향곡 작곡을 1839년부터 40년에 걸쳐 파리에서 착수했으나 1악장을 쓴 뒤에 중단했다.',\n",
       "   'idx': 1},\n",
       "  {'title': '파우스트_서곡',\n",
       "   'text': '그렇게 교향곡 작곡을 1839년부터 40년에 걸쳐 파리에서 착수했으나 1악장을 쓴 뒤에 중단했다. 또한 작품의 완성과 동시에 그는 이 서곡(1악장)을 파리 음악원의 연주회에서 연주할 파트보까지 준비하였으나, 실제로는 이루어지지는 않았다. 결국 초연은 4년 반이 지난 후에 드레스덴에서 연주되었고 재연도 이루어졌지만, 이후에 그대로 방치되고 말았다.',\n",
       "   'idx': 2}],\n",
       " 'answer_idx': [0, 1, 2],\n",
       " 'hard_neg': [{'title': '바이로이트_축제',\n",
       "   'text': '1871년 봄, 바그너는 지원금을 확보하기 위해 독일의 수상이었던 비스마르크를 만나지만 거절당한다. 바그너는 라이프치히와 프랑크푸르트 등의 독일 도시들을 돌아다니며 기금을 조성한다.',\n",
       "   'idx': 29869},\n",
       "  {'title': '교향곡_다장조_(바그너)',\n",
       "   'text': '바그너의 가족들은 1882년 9월 14일에 베니스로 여행을 떠났는데, 그 곳에서 반년 정도 머룰고 있던 1883년 2월 13일에 바그너는 심장마비로 사망하였다. 이 체류기간 중인 1882년 12월 24일, 바그너는 아내 코지마의 생일 파티를 겸한 연주회를 페니체 극장에서 개최하였는데, 50년 전에 작곡한 이 교향곡을 자이톨이 만든 복원 총보를 사용하여 바그너 자신이 직접 연주하였다. 지금은 분실되고 말았지만, 원본 총보로 연주된 초연은 작곡 후 곧바로 1832년 11월에 프라하 음악원에서 디오니스 베버(Dionys Weber, 1799 ~ 1842, 체코의 작곡가이며 프라하 음악원 설립에 공헌한 음악교수)의 지휘로 이루어졌다.',\n",
       "   'idx': 22775},\n",
       "  {'title': '위미르',\n",
       "   'text': '아우둠블라의 젖통에서 우유가 네 줄기의 강을 이루며 흘렀고, 위미르는 그 우유를 먹었다. 강글레리는 그 암소는 무엇을 먹었냐고 묻는다. 높으신 분은 암소는 소금기 있는 얼음 덩어리를 핥았다고 답한다.',\n",
       "   'idx': 29114}]}"
      ]
     },
     "execution_count": 44,
     "metadata": {},
     "output_type": "execute_result"
    }
   ],
   "source": [
    "dataset[0]"
   ]
  },
  {
   "cell_type": "code",
   "execution_count": 45,
   "id": "ad580b7d-e557-4a25-8e0f-3327b3b0cec3",
   "metadata": {},
   "outputs": [],
   "source": [
    "index_path = 'korquad_v1_train_index.json'"
   ]
  },
  {
   "cell_type": "code",
   "execution_count": 46,
   "id": "e20a1fe3-8496-436a-8b28-4dccbc06d5fa",
   "metadata": {},
   "outputs": [],
   "source": [
    "with open(index_path, 'w') as outfile:\n",
    "    json.dump(text_2_index, outfile, indent=4)"
   ]
  },
  {
   "cell_type": "code",
   "execution_count": 47,
   "id": "331ef546-e107-4c51-a2b6-39392efcb810",
   "metadata": {},
   "outputs": [],
   "source": [
    "with open(index_path) as infile:\n",
    "    index = json.load(infile)"
   ]
  },
  {
   "cell_type": "code",
   "execution_count": 48,
   "id": "f194f9f2-e60f-4ef0-b5d0-523134ed2a5c",
   "metadata": {},
   "outputs": [
    {
     "data": {
      "text/plain": [
       "30738"
      ]
     },
     "execution_count": 48,
     "metadata": {},
     "output_type": "execute_result"
    }
   ],
   "source": [
    "len(index)"
   ]
  },
  {
   "cell_type": "code",
   "execution_count": null,
   "id": "d5039acc-730a-4072-bae5-ee9868472b84",
   "metadata": {},
   "outputs": [],
   "source": []
  }
 ],
 "metadata": {
  "kernelspec": {
   "display_name": "Python 3 (ipykernel)",
   "language": "python",
   "name": "python3"
  },
  "language_info": {
   "codemirror_mode": {
    "name": "ipython",
    "version": 3
   },
   "file_extension": ".py",
   "mimetype": "text/x-python",
   "name": "python",
   "nbconvert_exporter": "python",
   "pygments_lexer": "ipython3",
   "version": "3.8.19"
  }
 },
 "nbformat": 4,
 "nbformat_minor": 5
}
