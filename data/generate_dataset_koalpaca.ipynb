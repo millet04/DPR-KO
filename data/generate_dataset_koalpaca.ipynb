{
 "cells": [
  {
   "cell_type": "markdown",
   "id": "e44489f3-8ef8-4284-8152-7d07710df29b",
   "metadata": {},
   "source": [
    "# **Generate Korean DPR Dataset (KoAlpaca v1.1a)**"
   ]
  },
  {
   "cell_type": "markdown",
   "id": "fa948ec2-3170-4022-b34b-3b8c1a50b40b",
   "metadata": {},
   "source": [
    "- KoAlpaca v1.1a 데이터 셋을 이용해 DPR 모델을 학습하기 위한 데이터 셋을 구축하는 코드입니다.\n",
    "- 단답형 정답이 있는 데이터 셋은 **'generate_dataset_korquad.ipynb'** 파일을 참고해주세요. \n",
    "- Chunking은 nltk 라이브러리의 sent_tokenize 를 이용해 문장 단위로 이루어집니다. (여기서는 생략) \n",
    "- 이 코드로 구성한 최종 데이터 셋은 다음과 같은 조건을 만족해야 합니다. (코드를 따라가면 자동으로 충족됩니다.)\n",
    "  - 모든 데이터 셋은 정해진 템플릿의 구성을 따라야 합니다.\n",
    "  - 각 텍스트(text)는 고유한 인덱스 가져야 합니다.\n",
    "  - Hard Negative 샘플을 이용할 경우 그 수는 텍스트의 수와 일치해야 합니다."
   ]
  },
  {
   "cell_type": "code",
   "execution_count": 1,
   "id": "f13a0c49-ba91-4b91-bfb6-3a535ccb3cbc",
   "metadata": {},
   "outputs": [],
   "source": [
    "import json\n",
    "import pandas as pd\n",
    "from tqdm import tqdm\n",
    "from nltk import sent_tokenize\n",
    "from rank_bm25 import BM25Okapi\n",
    "from datasets import load_dataset\n",
    "from transformers import AutoTokenizer"
   ]
  },
  {
   "cell_type": "markdown",
   "id": "c56aca26-d9a1-48ed-bed8-2ed2efecab5a",
   "metadata": {},
   "source": [
    "### 1. Load Dataset"
   ]
  },
  {
   "cell_type": "markdown",
   "id": "ab0b72d4-ad10-4ffd-9848-c30172b795d7",
   "metadata": {},
   "source": [
    "- KoAlpaca v1.1a 데이터 셋을 로드합니다.\n",
    "- instruction, output 등의 정보를 확인합니다.\n",
    "- 다른 데이터 셋을 이용할 경우 형식을 맞추거나 코드를 수정해서 사용하시면 됩니다."
   ]
  },
  {
   "cell_type": "code",
   "execution_count": 3,
   "id": "a5ba8e5d-473d-4421-ae59-01e2b2f40b9b",
   "metadata": {},
   "outputs": [],
   "source": [
    "dataset = load_dataset('beomi/KoAlpaca-v1.1a', trust_remote_code=True)"
   ]
  },
  {
   "cell_type": "code",
   "execution_count": 4,
   "id": "dc0ddde2-b63c-401f-96aa-1ced650421f5",
   "metadata": {},
   "outputs": [
    {
     "data": {
      "text/plain": [
       "{'instruction': '양파는 어떤 식물 부위인가요? 그리고 고구마는 뿌리인가요?',\n",
       " 'output': '양파는 잎이 아닌 식물의 줄기 부분입니다. 고구마는 식물의 뿌리 부분입니다. \\n\\n식물의 부위의 구분에 대해 궁금해하는 분이라면 분명 이 질문에 대한 답을 찾고 있을 것입니다. 양파는 잎이 아닌 줄기 부분입니다. 고구마는 다른 질문과 답변에서 언급된 것과 같이 뿌리 부분입니다. 따라서, 양파는 식물의 줄기 부분이 되고, 고구마는 식물의 뿌리 부분입니다.\\n\\n 덧붙이는 답변: 고구마 줄기도 볶아먹을 수 있나요? \\n\\n고구마 줄기도 식용으로 볶아먹을 수 있습니다. 하지만 줄기 뿐만 아니라, 잎, 씨, 뿌리까지 모든 부위가 식용으로 활용되기도 합니다. 다만, 한국에서는 일반적으로 뿌리 부분인 고구마를 주로 먹습니다.',\n",
       " 'url': 'https://kin.naver.com/qna/detail.naver?d1id=11&dirId=1116&docId=55320268'}"
      ]
     },
     "execution_count": 4,
     "metadata": {},
     "output_type": "execute_result"
    }
   ],
   "source": [
    "dataset['train'][0]"
   ]
  },
  {
   "cell_type": "markdown",
   "id": "5e39e3da-2122-4961-b1a3-8fde1ec79bd6",
   "metadata": {},
   "source": [
    "### 2. Chunk Contexts"
   ]
  },
  {
   "cell_type": "markdown",
   "id": "452e0e68-a274-4117-9fcb-16a306655036",
   "metadata": {},
   "source": [
    "- nltk의 sent_tokenize를 이용해 context를 chunk 단위로 분할합니다.\n",
    "- **chunk_context** 함수에서 num_sents는 한 chunk 당 문장의 수이고, overlaps는 연속된 chunk 간 겹치는 문장의 수입니다.\n",
    "- chunking 을 원하지 않을 경우 100 처럼 아주 큰 수를 입력하면 됩니다.\n",
    "- 여기서는 chunking을 생략합니다. 큰 수를 입력하고 텍스트가 분할되지 않는지 확인합니다. "
   ]
  },
  {
   "cell_type": "code",
   "execution_count": 5,
   "id": "9847d9cd-cf03-42a4-a994-a6b58fceee24",
   "metadata": {},
   "outputs": [],
   "source": [
    "def chunk_context(context, num_sents, overlaps):\n",
    "    chunks = []\n",
    "    start, end = 0, num_sents\n",
    "    \n",
    "    total_sents = sent_tokenize(context)\n",
    "\n",
    "    while start < len(total_sents):\n",
    "        chunk = total_sents[start:end]\n",
    "        chunks.append(' '.join(chunk))\n",
    "        \n",
    "        start += (num_sents - overlaps)\n",
    "        end = start + num_sents\n",
    "\n",
    "    return chunks"
   ]
  },
  {
   "cell_type": "code",
   "execution_count": 6,
   "id": "17cc7acc-975d-4dd9-bb5e-e54933a095f9",
   "metadata": {},
   "outputs": [
    {
     "data": {
      "text/plain": [
       "['양파는 잎이 아닌 식물의 줄기 부분입니다. 고구마는 식물의 뿌리 부분입니다. 식물의 부위의 구분에 대해 궁금해하는 분이라면 분명 이 질문에 대한 답을 찾고 있을 것입니다. 양파는 잎이 아닌 줄기 부분입니다. 고구마는 다른 질문과 답변에서 언급된 것과 같이 뿌리 부분입니다. 따라서, 양파는 식물의 줄기 부분이 되고, 고구마는 식물의 뿌리 부분입니다. 덧붙이는 답변: 고구마 줄기도 볶아먹을 수 있나요? 고구마 줄기도 식용으로 볶아먹을 수 있습니다. 하지만 줄기 뿐만 아니라, 잎, 씨, 뿌리까지 모든 부위가 식용으로 활용되기도 합니다. 다만, 한국에서는 일반적으로 뿌리 부분인 고구마를 주로 먹습니다.']"
      ]
     },
     "execution_count": 6,
     "metadata": {},
     "output_type": "execute_result"
    }
   ],
   "source": [
    "sample_ctx = dataset['train'][0]['output']\n",
    "\n",
    "chunks = chunk_context(sample_ctx, 100, 0)\n",
    "chunks"
   ]
  },
  {
   "cell_type": "markdown",
   "id": "afb29f46-4fe4-4e9d-bcb7-19d45a0a2a05",
   "metadata": {},
   "source": [
    "### 3. Fill Templates"
   ]
  },
  {
   "cell_type": "markdown",
   "id": "a383e92a-cda4-4a0f-af23-128e8c8d0e6f",
   "metadata": {},
   "source": [
    "- 아래는 DPR 모델 학습을 위한 템플릿입니다.\n",
    "- TEMPATE_ALL 의 positive 키의 리스트에 TEMPLATE_TEXT가 요소로 들어가는 구성입니다.\n",
    "- __fill_templates__ 함수를 이용해 위 데이터 셋의 내용을 템플릿에 채웁니다. \n",
    "- 앞서 구성한 chunks와 아래의 question 이용해 템플릿을 잘 구성하는지 확인합니다.\n",
    "- 사용하는 데이터 셋에 **제목이 없으면 그대로 \"\" 로 두면 됩니다**. None 값이 잘못 들어갈 경우 학습 과정에서 오류가 발생할 수 있습니다.  "
   ]
  },
  {
   "cell_type": "code",
   "execution_count": 7,
   "id": "9bb5c9ce-c3b7-4bc3-9028-ca6f3266ffeb",
   "metadata": {},
   "outputs": [],
   "source": [
    "TEMPLATE_ALL = {\n",
    "    \"question\": \"\",\n",
    "\t\"positive\": [],\n",
    "  }\n",
    "\n",
    "TEMPLATE_TEXT = {\n",
    "    \"title\": \"\",\n",
    "    \"text\": \"\",\n",
    "}"
   ]
  },
  {
   "cell_type": "code",
   "execution_count": 8,
   "id": "accd7bf9-0e46-4500-b133-6fb085f0791a",
   "metadata": {},
   "outputs": [
    {
     "data": {
      "text/plain": [
       "'양파는 어떤 식물 부위인가요? 그리고 고구마는 뿌리인가요?'"
      ]
     },
     "execution_count": 8,
     "metadata": {},
     "output_type": "execute_result"
    }
   ],
   "source": [
    "question = dataset['train'][0]['instruction']\n",
    "question"
   ]
  },
  {
   "cell_type": "code",
   "execution_count": 9,
   "id": "d02b439f-85b8-4fb6-849d-e3e65707fb45",
   "metadata": {},
   "outputs": [],
   "source": [
    "def fill_templates(chunks, question):\n",
    "    positives = []\n",
    "    for chunk in chunks:\n",
    "        template_instance1 = TEMPLATE_TEXT.copy()\n",
    "        template_instance1['text'] = chunk\n",
    "        positives.append(template_instance1.copy())\n",
    "\n",
    "    template_instance2 = TEMPLATE_ALL.copy()\n",
    "    template_instance2['question'] = question\n",
    "    template_instance2['positive'] = positives\n",
    "    \n",
    "    return template_instance2"
   ]
  },
  {
   "cell_type": "code",
   "execution_count": 10,
   "id": "b1ae4fe5-2200-4186-ba56-845e988c2f3e",
   "metadata": {
    "scrolled": true
   },
   "outputs": [
    {
     "data": {
      "text/plain": [
       "{'question': '양파는 어떤 식물 부위인가요? 그리고 고구마는 뿌리인가요?',\n",
       " 'positive': [{'title': '',\n",
       "   'text': '양파는 잎이 아닌 식물의 줄기 부분입니다. 고구마는 식물의 뿌리 부분입니다. 식물의 부위의 구분에 대해 궁금해하는 분이라면 분명 이 질문에 대한 답을 찾고 있을 것입니다. 양파는 잎이 아닌 줄기 부분입니다. 고구마는 다른 질문과 답변에서 언급된 것과 같이 뿌리 부분입니다. 따라서, 양파는 식물의 줄기 부분이 되고, 고구마는 식물의 뿌리 부분입니다. 덧붙이는 답변: 고구마 줄기도 볶아먹을 수 있나요? 고구마 줄기도 식용으로 볶아먹을 수 있습니다. 하지만 줄기 뿐만 아니라, 잎, 씨, 뿌리까지 모든 부위가 식용으로 활용되기도 합니다. 다만, 한국에서는 일반적으로 뿌리 부분인 고구마를 주로 먹습니다.'}]}"
      ]
     },
     "execution_count": 10,
     "metadata": {},
     "output_type": "execute_result"
    }
   ],
   "source": [
    "fill_templates(chunks, question)"
   ]
  },
  {
   "cell_type": "markdown",
   "id": "eed7e1f7-4130-46ee-9bce-c2e532597121",
   "metadata": {},
   "source": [
    "### 4. Construct DPR Dataset"
   ]
  },
  {
   "cell_type": "markdown",
   "id": "4807dad6-dcd9-407e-8250-75c990548752",
   "metadata": {},
   "source": [
    "- 이상의 **chunk_context** 함수와 **fill_templates** 함수를 종합해 전체 데이터 셋에 적용합니다.\n",
    "- 이를 수행하는 함수가 **construct_dpr_dataset** 입니다.\n",
    "- 아래처럼 원하는 num_sents와 overlaps 값을 설정해 전체 데이터 셋에 함수를 적용합니다."
   ]
  },
  {
   "cell_type": "code",
   "execution_count": 11,
   "id": "52181bab-40e0-490d-ac68-9c7132421a87",
   "metadata": {},
   "outputs": [],
   "source": [
    "TEMPLATE_ALL = {\n",
    "    \"question\": \"\",\n",
    "\t\"positive\": [],\n",
    "  }\n",
    "\n",
    "TEMPLATE_TEXT = {\n",
    "    \"title\": \"\",\n",
    "    \"text\": \"\",\n",
    "}"
   ]
  },
  {
   "cell_type": "code",
   "execution_count": 12,
   "id": "dc800979-58d0-4952-9b3d-5d4f0030630f",
   "metadata": {},
   "outputs": [],
   "source": [
    "def construct_dpr_dataset(dataset, num_sents, overlaps):\n",
    "    dpr_dataset = []\n",
    "    for idx in tqdm(range(len(dataset))):\n",
    "        sample = dataset[idx]\n",
    "        \n",
    "        question = sample['instruction']\n",
    "        chunks = chunk_context(sample['output'], num_sents, overlaps)\n",
    "        \n",
    "        output = fill_templates(chunks, question)\n",
    "        dpr_dataset.append(output)\n",
    "    \n",
    "    return dpr_dataset"
   ]
  },
  {
   "cell_type": "code",
   "execution_count": 13,
   "id": "f9085916-966e-4128-9b65-067ec0f863ec",
   "metadata": {},
   "outputs": [
    {
     "name": "stderr",
     "output_type": "stream",
     "text": [
      "100%|███████████████████████████████████████████████████████████████████████████| 21155/21155 [00:03<00:00, 5477.25it/s]\n"
     ]
    }
   ],
   "source": [
    "dpr_dataset = construct_dpr_dataset(dataset['train'], 100, 0)"
   ]
  },
  {
   "cell_type": "code",
   "execution_count": 14,
   "id": "57464151-c44b-4246-8610-f397f117f489",
   "metadata": {
    "scrolled": true
   },
   "outputs": [
    {
     "data": {
      "text/plain": [
       "{'question': '양파는 어떤 식물 부위인가요? 그리고 고구마는 뿌리인가요?',\n",
       " 'positive': [{'title': '',\n",
       "   'text': '양파는 잎이 아닌 식물의 줄기 부분입니다. 고구마는 식물의 뿌리 부분입니다. 식물의 부위의 구분에 대해 궁금해하는 분이라면 분명 이 질문에 대한 답을 찾고 있을 것입니다. 양파는 잎이 아닌 줄기 부분입니다. 고구마는 다른 질문과 답변에서 언급된 것과 같이 뿌리 부분입니다. 따라서, 양파는 식물의 줄기 부분이 되고, 고구마는 식물의 뿌리 부분입니다. 덧붙이는 답변: 고구마 줄기도 볶아먹을 수 있나요? 고구마 줄기도 식용으로 볶아먹을 수 있습니다. 하지만 줄기 뿐만 아니라, 잎, 씨, 뿌리까지 모든 부위가 식용으로 활용되기도 합니다. 다만, 한국에서는 일반적으로 뿌리 부분인 고구마를 주로 먹습니다.'}]}"
      ]
     },
     "execution_count": 14,
     "metadata": {},
     "output_type": "execute_result"
    }
   ],
   "source": [
    "dpr_dataset[0]"
   ]
  },
  {
   "cell_type": "markdown",
   "id": "b01e1368-b46a-4627-a6ab-82c1f1fc8fca",
   "metadata": {},
   "source": [
    "- 코드 실행 결과, 위와 같은 완성된 템플릿이 담긴 리스트가 반환됩니다.\n",
    "- **만일 여러 데이터 셋을 종합해서 사용할 경우, 이 단계에서 각 데이터 셋의 리스트를 하나로 통합해주면 됩니다.**\n",
    "- 다음 단계에서 각 텍스트마다 고유한 인덱스를 부여하게 되므로 반드시 이 단계에서 통합해주어야 합니다. "
   ]
  },
  {
   "cell_type": "markdown",
   "id": "596003e5-0908-4a0d-835f-533da4ba58d6",
   "metadata": {},
   "source": [
    "### 5. Set Index"
   ]
  },
  {
   "cell_type": "markdown",
   "id": "5893fdb7-e0a0-4740-9f4b-2c22f99e6fff",
   "metadata": {},
   "source": [
    "- 데이터 셋의 각 텍스트에 고유한 인덱스를 부여합니다.\n",
    "- 데이터 셋에 동일한 텍스트가 여러 개 있을 경우 모두 동일한 인덱스를 부여받게 됩니다.\n",
    "- **text_2_index와 text_2_title** 은 **5.Add Hard Negative** 에서 이용합니다."
   ]
  },
  {
   "cell_type": "code",
   "execution_count": 15,
   "id": "ce51ce37-3159-426c-b9b9-0231b1dfdb65",
   "metadata": {},
   "outputs": [],
   "source": [
    "def set_index_to_text(dataset):\n",
    "    text_2_index = {}\n",
    "    text_2_title = {}\n",
    "    current_idx = 0  # Initialize the starting index\n",
    "\n",
    "    for sample in dataset:\n",
    "        pos_text = [pos['text'] for pos in sample['positive']]\n",
    "        pos_title = [pos['title'] for pos in sample['positive']]\n",
    "    \n",
    "        all_idx = []\n",
    "        for text, title in zip(pos_text, pos_title):\n",
    "            if text not in text_2_index:\n",
    "                text_2_index[text] = current_idx \n",
    "                text_2_title[text] = title  # Map the text to its title\n",
    "                current_idx += 1\n",
    "\n",
    "        for pos in sample['positive']:\n",
    "            pos['idx'] = text_2_index[pos['text']]\n",
    "            all_idx.append(text_2_index[pos['text']])\n",
    "        \n",
    "        sample['answer_idx'] = all_idx\n",
    "\n",
    "    return dataset, text_2_index, text_2_title"
   ]
  },
  {
   "cell_type": "code",
   "execution_count": 16,
   "id": "b771e021-37ee-4a2f-b832-f9a21d338c6a",
   "metadata": {},
   "outputs": [],
   "source": [
    "dpr_dataset, text_2_index, text_2_title = set_index_to_text(dpr_dataset)"
   ]
  },
  {
   "cell_type": "code",
   "execution_count": 17,
   "id": "d3b99b5c-939f-47f9-8ab8-18c5962da7fb",
   "metadata": {},
   "outputs": [
    {
     "data": {
      "text/plain": [
       "{'question': '양파는 어떤 식물 부위인가요? 그리고 고구마는 뿌리인가요?',\n",
       " 'positive': [{'title': '',\n",
       "   'text': '양파는 잎이 아닌 식물의 줄기 부분입니다. 고구마는 식물의 뿌리 부분입니다. 식물의 부위의 구분에 대해 궁금해하는 분이라면 분명 이 질문에 대한 답을 찾고 있을 것입니다. 양파는 잎이 아닌 줄기 부분입니다. 고구마는 다른 질문과 답변에서 언급된 것과 같이 뿌리 부분입니다. 따라서, 양파는 식물의 줄기 부분이 되고, 고구마는 식물의 뿌리 부분입니다. 덧붙이는 답변: 고구마 줄기도 볶아먹을 수 있나요? 고구마 줄기도 식용으로 볶아먹을 수 있습니다. 하지만 줄기 뿐만 아니라, 잎, 씨, 뿌리까지 모든 부위가 식용으로 활용되기도 합니다. 다만, 한국에서는 일반적으로 뿌리 부분인 고구마를 주로 먹습니다.',\n",
       "   'idx': 0}],\n",
       " 'answer_idx': [0]}"
      ]
     },
     "execution_count": 17,
     "metadata": {},
     "output_type": "execute_result"
    }
   ],
   "source": [
    "dpr_dataset[0]"
   ]
  },
  {
   "cell_type": "markdown",
   "id": "679a60cb-6568-48c5-bf24-a73b0282d55f",
   "metadata": {},
   "source": [
    "- 이상으로 DPR 모델을 학습할 수 있는 데이터 셋이 완성되었습니다.\n",
    "- Hard Negative 샘플을 추가해 모델의 성능을 향상시키고 싶으면 **5.Add Hard Netgative** 로 가면됩니다.\n",
    "- Hard Negative 샘플 없이 데이터를 저장하고 싶으면 **6.Save to Json** 으로 가면됩니다.\n",
    "- **Validation Set의 경우 Hard Negative 샘플 없이 바로 저장하면 됩니다.**"
   ]
  },
  {
   "cell_type": "markdown",
   "id": "4a596d46-8737-49fb-8ab3-c32733dd23e2",
   "metadata": {},
   "source": [
    "### 5. Add Hard Negative (Optional)"
   ]
  },
  {
   "cell_type": "markdown",
   "id": "4b58b97f-5139-497c-a68d-1ca352e22b95",
   "metadata": {},
   "source": [
    "- **get_hard_negative** 함수를 이용해 **'정답이 아니지만 정답처럼 보이는 텍스트(Hard Negative)'** 를 찾습니다. \n",
    "- BM25 점수가 가장 높은 **n** 개를 추출한 후 그 중에서 **가장 높은 점수**의 텍스트가 차례로 Hard Negative 샘플로 선택됩니다. \n",
    "- KorQuad의 경우 여러 질문이 동일한 텍스트에 연결된 경우가 많은데, False Negative를 방지하기 위해 동일한 텍스트는 모두 필터링합니다.\n",
    "- 필터링의 결과로 n 개의 텍스트에서 Hard Negative 샘플을 정해진 수만큼 찾지 못한 경우 **기존의 것을 복제**해 사용합니다.\n",
    "- 따라서 넉넉한 n 값을 설정하는 것이 좋습니다. 다만, n 값이 커질수록 데이터 셋 구축 시간이 오래걸립니다.\n",
    "- 함수 실행 결과, **positive의 텍스트 개수와 hard_neg의 텍스트 개수는 일치해야 합니다**.  "
   ]
  },
  {
   "cell_type": "code",
   "execution_count": 18,
   "id": "3e066f43-2633-4c54-a88f-24cacb462938",
   "metadata": {},
   "outputs": [],
   "source": [
    "def get_hard_negative(dataset, text_2_index, text_2_title, n=30):\n",
    "    corpus = list(text_2_index.keys())\n",
    "    tokenized_corpus = [context.split(\" \") for context in corpus]\n",
    "    bm25 = BM25Okapi(tokenized_corpus)\n",
    "\n",
    "    for sample in tqdm(dataset, desc=\"Processing samples\"):\n",
    "        question = sample['question']\n",
    "        positive = sample['positive']\n",
    "\n",
    "        top_n = bm25.get_top_n(question.split(\" \"), corpus, n=n)  # Increase n to have more candidates\n",
    "        \n",
    "        hard_neg = []\n",
    "        positive_idx_set = set(sample['answer_idx'])\n",
    "        for doc in top_n:\n",
    "            if text_2_index[doc] not in positive_idx_set:\n",
    "                hard_neg.append({'title': text_2_title[doc],\n",
    "                                 'text': doc,\n",
    "                                 'idx': text_2_index[doc]})\n",
    "            \n",
    "            if len(hard_neg) >= len(positive):\n",
    "                break\n",
    "        \n",
    "        # If not enough hard negatives, repeat existing ones to match the number of positives\n",
    "        if len(hard_neg) < len(positive):\n",
    "            print(f\"Warning: Not enough hard negatives for question: {question}. Duplicating existing hard negatives.\")\n",
    "            while len(hard_neg) < len(positive):\n",
    "                hard_neg.extend(hard_neg[:len(positive) - len(hard_neg)])\n",
    "        \n",
    "        sample['hard_neg'] = hard_neg[:len(positive)]  # Trim to ensure exact number matches positive samples\n",
    "        \n",
    "    return dataset"
   ]
  },
  {
   "cell_type": "code",
   "execution_count": 19,
   "id": "b3037adc-0856-4a11-bf90-2826002fb4c2",
   "metadata": {},
   "outputs": [
    {
     "name": "stderr",
     "output_type": "stream",
     "text": [
      "Processing samples: 100%|█████████████████████████████████████████████████████████| 21155/21155 [19:33<00:00, 18.02it/s]\n"
     ]
    }
   ],
   "source": [
    "dpr_dataset = get_hard_negative(dpr_dataset, text_2_index, text_2_title, n=5)"
   ]
  },
  {
   "cell_type": "code",
   "execution_count": 20,
   "id": "76e874ca-0c83-4873-a247-f7246cb6683f",
   "metadata": {},
   "outputs": [
    {
     "data": {
      "text/plain": [
       "{'question': '양파는 어떤 식물 부위인가요? 그리고 고구마는 뿌리인가요?',\n",
       " 'positive': [{'title': '',\n",
       "   'text': '양파는 잎이 아닌 식물의 줄기 부분입니다. 고구마는 식물의 뿌리 부분입니다. 식물의 부위의 구분에 대해 궁금해하는 분이라면 분명 이 질문에 대한 답을 찾고 있을 것입니다. 양파는 잎이 아닌 줄기 부분입니다. 고구마는 다른 질문과 답변에서 언급된 것과 같이 뿌리 부분입니다. 따라서, 양파는 식물의 줄기 부분이 되고, 고구마는 식물의 뿌리 부분입니다. 덧붙이는 답변: 고구마 줄기도 볶아먹을 수 있나요? 고구마 줄기도 식용으로 볶아먹을 수 있습니다. 하지만 줄기 뿐만 아니라, 잎, 씨, 뿌리까지 모든 부위가 식용으로 활용되기도 합니다. 다만, 한국에서는 일반적으로 뿌리 부분인 고구마를 주로 먹습니다.',\n",
       "   'idx': 0}],\n",
       " 'answer_idx': [0],\n",
       " 'hard_neg': [{'title': '',\n",
       "   'text': '양파는 백합과 관련된 식물 중 하나입니다. 백합과에는 양파뿐만 아니라 알리움, 파, 마늘, 부추 등도 포함됩니다. 모든 이들은 구근식물이며 이 식물들은 인경이라는 특별한 생물학적 특징을 가지고 있습니다. 인경은 줄기가 아닌 비늘 또는 덩어리 상태로 생장하는 식물을 지칭하는데, 양파도 구근이면서 인경이므로 백합 중 하나입니다. 또한 백합과는 구근 뿌리가 둥글다는 공통점이 있습니다.',\n",
       "   'idx': 20722}]}"
      ]
     },
     "execution_count": 20,
     "metadata": {},
     "output_type": "execute_result"
    }
   ],
   "source": [
    "dpr_dataset[0]"
   ]
  },
  {
   "cell_type": "markdown",
   "id": "798abd02-e904-4fca-a9dd-a0f322c90161",
   "metadata": {},
   "source": [
    "### 6. Save to Json"
   ]
  },
  {
   "cell_type": "markdown",
   "id": "85d33a07-f7d1-4f92-a9c1-2d38a9733c27",
   "metadata": {},
   "source": [
    "- 이상의 방법으로 구축한 데이터 셋을 json 파일로 저장합니다.\n",
    "- 다시 로드해봄으로써 문제 없이 로드되는지 확인합니다."
   ]
  },
  {
   "cell_type": "code",
   "execution_count": 21,
   "id": "8805c679-4270-42f1-9b24-06ec1a969597",
   "metadata": {},
   "outputs": [],
   "source": [
    "file_path = 'koalpaca_v1_train.json'"
   ]
  },
  {
   "cell_type": "code",
   "execution_count": 22,
   "id": "ef44ea03-89b4-4590-ac1e-48b3d0a2467d",
   "metadata": {},
   "outputs": [],
   "source": [
    "with open(file_path, 'w') as outfile:\n",
    "    json.dump(dpr_dataset, outfile, indent=4)"
   ]
  },
  {
   "cell_type": "code",
   "execution_count": 23,
   "id": "6ff0ca9c-b75a-489c-8f89-b76d4f6d2db5",
   "metadata": {},
   "outputs": [],
   "source": [
    "with open(file_path) as infile:\n",
    "    dataset = json.load(infile)"
   ]
  },
  {
   "cell_type": "code",
   "execution_count": 24,
   "id": "daa904a7-9d6c-4d70-b631-b8879f372bf4",
   "metadata": {},
   "outputs": [
    {
     "data": {
      "text/plain": [
       "{'question': '양파는 어떤 식물 부위인가요? 그리고 고구마는 뿌리인가요?',\n",
       " 'positive': [{'title': '',\n",
       "   'text': '양파는 잎이 아닌 식물의 줄기 부분입니다. 고구마는 식물의 뿌리 부분입니다. 식물의 부위의 구분에 대해 궁금해하는 분이라면 분명 이 질문에 대한 답을 찾고 있을 것입니다. 양파는 잎이 아닌 줄기 부분입니다. 고구마는 다른 질문과 답변에서 언급된 것과 같이 뿌리 부분입니다. 따라서, 양파는 식물의 줄기 부분이 되고, 고구마는 식물의 뿌리 부분입니다. 덧붙이는 답변: 고구마 줄기도 볶아먹을 수 있나요? 고구마 줄기도 식용으로 볶아먹을 수 있습니다. 하지만 줄기 뿐만 아니라, 잎, 씨, 뿌리까지 모든 부위가 식용으로 활용되기도 합니다. 다만, 한국에서는 일반적으로 뿌리 부분인 고구마를 주로 먹습니다.',\n",
       "   'idx': 0}],\n",
       " 'answer_idx': [0],\n",
       " 'hard_neg': [{'title': '',\n",
       "   'text': '양파는 백합과 관련된 식물 중 하나입니다. 백합과에는 양파뿐만 아니라 알리움, 파, 마늘, 부추 등도 포함됩니다. 모든 이들은 구근식물이며 이 식물들은 인경이라는 특별한 생물학적 특징을 가지고 있습니다. 인경은 줄기가 아닌 비늘 또는 덩어리 상태로 생장하는 식물을 지칭하는데, 양파도 구근이면서 인경이므로 백합 중 하나입니다. 또한 백합과는 구근 뿌리가 둥글다는 공통점이 있습니다.',\n",
       "   'idx': 20722}]}"
      ]
     },
     "execution_count": 24,
     "metadata": {},
     "output_type": "execute_result"
    }
   ],
   "source": [
    "dataset[0]"
   ]
  }
 ],
 "metadata": {
  "kernelspec": {
   "display_name": "Python 3 (ipykernel)",
   "language": "python",
   "name": "python3"
  },
  "language_info": {
   "codemirror_mode": {
    "name": "ipython",
    "version": 3
   },
   "file_extension": ".py",
   "mimetype": "text/x-python",
   "name": "python",
   "nbconvert_exporter": "python",
   "pygments_lexer": "ipython3",
   "version": "3.8.19"
  }
 },
 "nbformat": 4,
 "nbformat_minor": 5
}
